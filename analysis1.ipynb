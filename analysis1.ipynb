{
 "cells": [
  {
   "cell_type": "code",
   "execution_count": 2,
   "metadata": {},
   "outputs": [],
   "source": [
    "import pandas as pd\n",
    "import seaborn as sb\n",
    "import matplotlib\n",
    "import matplotlib.pyplot as plt\n",
    "import numpy as np"
   ]
  },
  {
   "cell_type": "code",
   "execution_count": 3,
   "metadata": {},
   "outputs": [
    {
     "data": {
      "text/html": [
       "<div>\n",
       "<style scoped>\n",
       "    .dataframe tbody tr th:only-of-type {\n",
       "        vertical-align: middle;\n",
       "    }\n",
       "\n",
       "    .dataframe tbody tr th {\n",
       "        vertical-align: top;\n",
       "    }\n",
       "\n",
       "    .dataframe thead th {\n",
       "        text-align: right;\n",
       "    }\n",
       "</style>\n",
       "<table border=\"1\" class=\"dataframe\">\n",
       "  <thead>\n",
       "    <tr style=\"text-align: right;\">\n",
       "      <th></th>\n",
       "      <th>OrderNumber</th>\n",
       "      <th>Sales Channel</th>\n",
       "      <th>WarehouseCode</th>\n",
       "      <th>ProcuredDate</th>\n",
       "      <th>OrderDate</th>\n",
       "      <th>ShipDate</th>\n",
       "      <th>DeliveryDate</th>\n",
       "      <th>CurrencyCode</th>\n",
       "      <th>_SalesTeamID</th>\n",
       "      <th>_CustomerID</th>\n",
       "      <th>_StoreID</th>\n",
       "      <th>_ProductID</th>\n",
       "      <th>Order Quantity</th>\n",
       "      <th>Discount Applied</th>\n",
       "      <th>Unit Price</th>\n",
       "      <th>Unit Cost</th>\n",
       "    </tr>\n",
       "  </thead>\n",
       "  <tbody>\n",
       "    <tr>\n",
       "      <th>0</th>\n",
       "      <td>SO - 000101</td>\n",
       "      <td>In-Store</td>\n",
       "      <td>WARE-UHY1004</td>\n",
       "      <td>2017-12-31</td>\n",
       "      <td>2018-05-31</td>\n",
       "      <td>2018-06-14</td>\n",
       "      <td>2018-06-19</td>\n",
       "      <td>USD</td>\n",
       "      <td>6</td>\n",
       "      <td>15</td>\n",
       "      <td>259</td>\n",
       "      <td>12</td>\n",
       "      <td>5</td>\n",
       "      <td>0.075</td>\n",
       "      <td>1963.1</td>\n",
       "      <td>1001.181</td>\n",
       "    </tr>\n",
       "    <tr>\n",
       "      <th>1</th>\n",
       "      <td>SO - 000102</td>\n",
       "      <td>Online</td>\n",
       "      <td>WARE-NMK1003</td>\n",
       "      <td>2017-12-31</td>\n",
       "      <td>2018-05-31</td>\n",
       "      <td>2018-06-22</td>\n",
       "      <td>2018-07-02</td>\n",
       "      <td>USD</td>\n",
       "      <td>14</td>\n",
       "      <td>20</td>\n",
       "      <td>196</td>\n",
       "      <td>27</td>\n",
       "      <td>3</td>\n",
       "      <td>0.075</td>\n",
       "      <td>3939.6</td>\n",
       "      <td>3348.660</td>\n",
       "    </tr>\n",
       "    <tr>\n",
       "      <th>2</th>\n",
       "      <td>SO - 000103</td>\n",
       "      <td>Distributor</td>\n",
       "      <td>WARE-UHY1004</td>\n",
       "      <td>2017-12-31</td>\n",
       "      <td>2018-05-31</td>\n",
       "      <td>2018-06-21</td>\n",
       "      <td>2018-07-01</td>\n",
       "      <td>USD</td>\n",
       "      <td>21</td>\n",
       "      <td>16</td>\n",
       "      <td>213</td>\n",
       "      <td>16</td>\n",
       "      <td>1</td>\n",
       "      <td>0.050</td>\n",
       "      <td>1775.5</td>\n",
       "      <td>781.220</td>\n",
       "    </tr>\n",
       "    <tr>\n",
       "      <th>3</th>\n",
       "      <td>SO - 000104</td>\n",
       "      <td>Wholesale</td>\n",
       "      <td>WARE-NMK1003</td>\n",
       "      <td>2017-12-31</td>\n",
       "      <td>2018-05-31</td>\n",
       "      <td>2018-06-02</td>\n",
       "      <td>2018-06-07</td>\n",
       "      <td>USD</td>\n",
       "      <td>28</td>\n",
       "      <td>48</td>\n",
       "      <td>107</td>\n",
       "      <td>23</td>\n",
       "      <td>8</td>\n",
       "      <td>0.075</td>\n",
       "      <td>2324.9</td>\n",
       "      <td>1464.687</td>\n",
       "    </tr>\n",
       "    <tr>\n",
       "      <th>4</th>\n",
       "      <td>SO - 000105</td>\n",
       "      <td>Distributor</td>\n",
       "      <td>WARE-NMK1003</td>\n",
       "      <td>2018-04-10</td>\n",
       "      <td>2018-05-31</td>\n",
       "      <td>2018-06-16</td>\n",
       "      <td>2018-06-26</td>\n",
       "      <td>USD</td>\n",
       "      <td>22</td>\n",
       "      <td>49</td>\n",
       "      <td>111</td>\n",
       "      <td>26</td>\n",
       "      <td>8</td>\n",
       "      <td>0.100</td>\n",
       "      <td>1822.4</td>\n",
       "      <td>1476.144</td>\n",
       "    </tr>\n",
       "  </tbody>\n",
       "</table>\n",
       "</div>"
      ],
      "text/plain": [
       "   OrderNumber Sales Channel WarehouseCode ProcuredDate  OrderDate   ShipDate  \\\n",
       "0  SO - 000101      In-Store  WARE-UHY1004   2017-12-31 2018-05-31 2018-06-14   \n",
       "1  SO - 000102        Online  WARE-NMK1003   2017-12-31 2018-05-31 2018-06-22   \n",
       "2  SO - 000103   Distributor  WARE-UHY1004   2017-12-31 2018-05-31 2018-06-21   \n",
       "3  SO - 000104     Wholesale  WARE-NMK1003   2017-12-31 2018-05-31 2018-06-02   \n",
       "4  SO - 000105   Distributor  WARE-NMK1003   2018-04-10 2018-05-31 2018-06-16   \n",
       "\n",
       "  DeliveryDate CurrencyCode  _SalesTeamID  _CustomerID  _StoreID  _ProductID  \\\n",
       "0   2018-06-19          USD             6           15       259          12   \n",
       "1   2018-07-02          USD            14           20       196          27   \n",
       "2   2018-07-01          USD            21           16       213          16   \n",
       "3   2018-06-07          USD            28           48       107          23   \n",
       "4   2018-06-26          USD            22           49       111          26   \n",
       "\n",
       "   Order Quantity  Discount Applied  Unit Price  Unit Cost  \n",
       "0               5             0.075      1963.1   1001.181  \n",
       "1               3             0.075      3939.6   3348.660  \n",
       "2               1             0.050      1775.5    781.220  \n",
       "3               8             0.075      2324.9   1464.687  \n",
       "4               8             0.100      1822.4   1476.144  "
      ]
     },
     "execution_count": 3,
     "metadata": {},
     "output_type": "execute_result"
    }
   ],
   "source": [
    "df = pd.read_excel('sales_data.xlsx')\n",
    "dfTeam = pd.read_excel('sales_data.xlsx','Sales Team Sheet')\n",
    "\n",
    "df.head()"
   ]
  },
  {
   "cell_type": "code",
   "execution_count": 4,
   "metadata": {},
   "outputs": [
    {
     "name": "stdout",
     "output_type": "stream",
     "text": [
      "      _SalesTeamID\n",
      "0                6\n",
      "1               14\n",
      "2               21\n",
      "3               28\n",
      "4               22\n",
      "...            ...\n",
      "7986             9\n",
      "7987            14\n",
      "7988            14\n",
      "7989            20\n",
      "7990             6\n",
      "\n",
      "[7991 rows x 1 columns]\n"
     ]
    }
   ],
   "source": [
    "rows = df.filter(items=['_SalesTeamID'])\n",
    "print(rows)\n",
    "df['companyNames'] = 'unknown'\n",
    "df['companyRegion'] = 'unknown'\n"
   ]
  },
  {
   "cell_type": "code",
   "execution_count": 5,
   "metadata": {},
   "outputs": [
    {
     "name": "stdout",
     "output_type": "stream",
     "text": [
      "[ 6 14 21 28 22 12 10  4 23  8  9  5 25  2  7 24 18 20 13 19 17 26 11 15\n",
      " 16 27  3  1]\n"
     ]
    }
   ],
   "source": [
    "# df['_SalesTeamID'].unique()\n",
    "\n",
    "for index, row in dfTeam.iterrows():\n",
    "    index = index + 1\n",
    "    df.loc[df['_SalesTeamID'] == index, 'companyNames'] = row['Sales Team']\n",
    "    df.loc[df['_SalesTeamID'] == index, 'companyRegion'] = row['Region']\n",
    "print(df['_SalesTeamID'].unique())\n",
    "    "
   ]
  },
  {
   "cell_type": "code",
   "execution_count": 6,
   "metadata": {},
   "outputs": [
    {
     "name": "stdout",
     "output_type": "stream",
     "text": [
      "285.39285714285717\n"
     ]
    }
   ],
   "source": [
    "totalLength = len(df.index)\n",
    "companyCount = len(df['_SalesTeamID'].unique())\n",
    "dividedLength = totalLength / companyCount\n",
    "print(dividedLength)"
   ]
  },
  {
   "cell_type": "code",
   "execution_count": 7,
   "metadata": {},
   "outputs": [
    {
     "data": {
      "text/plain": [
       "(array([ 0,  1,  2,  3,  4,  5,  6,  7,  8,  9, 10, 11, 12, 13, 14, 15, 16,\n",
       "        17, 18, 19, 20, 21, 22, 23, 24, 25, 26, 27]),\n",
       " [Text(0, 0, 'Joshua Bennett'),\n",
       "  Text(1, 0, 'Paul Holmes'),\n",
       "  Text(2, 0, 'Samuel Fowler'),\n",
       "  Text(3, 0, 'Carlos Miller'),\n",
       "  Text(4, 0, 'Joe Price'),\n",
       "  Text(5, 0, 'Carl Nguyen'),\n",
       "  Text(6, 0, 'Jonathan Hawkins'),\n",
       "  Text(7, 0, 'Chris Armstrong'),\n",
       "  Text(8, 0, 'Douglas Tucker'),\n",
       "  Text(9, 0, 'George Lewis'),\n",
       "  Text(10, 0, 'Joshua Ryan'),\n",
       "  Text(11, 0, 'Stephen Payne'),\n",
       "  Text(12, 0, 'Patrick Graham'),\n",
       "  Text(13, 0, 'Keith Griffin'),\n",
       "  Text(14, 0, 'Shawn Cook'),\n",
       "  Text(15, 0, 'Roy Rice'),\n",
       "  Text(16, 0, 'Shawn Wallace'),\n",
       "  Text(17, 0, 'Anthony Torres'),\n",
       "  Text(18, 0, 'Todd Roberts'),\n",
       "  Text(19, 0, 'Nicholas Cunningham'),\n",
       "  Text(20, 0, 'Frank Brown'),\n",
       "  Text(21, 0, 'Donald Reynolds'),\n",
       "  Text(22, 0, 'Joshua Little'),\n",
       "  Text(23, 0, 'Roger Alexander'),\n",
       "  Text(24, 0, 'Anthony Berry'),\n",
       "  Text(25, 0, 'Shawn Torres'),\n",
       "  Text(26, 0, 'Jerry Green'),\n",
       "  Text(27, 0, 'Adam Hernandez')])"
      ]
     },
     "execution_count": 7,
     "metadata": {},
     "output_type": "execute_result"
    },
    {
     "data": {
      "image/png": "[encoded data removed]",
      "text/plain": [
       "<Figure size 720x432 with 1 Axes>"
      ]
     },
     "metadata": {
      "needs_background": "light"
     },
     "output_type": "display_data"
    }
   ],
   "source": [
    "plt.figure(figsize=(10,6))\n",
    "dfSales = df.groupby(\"_SalesTeamID\")._SalesTeamID.count()\n",
    "sb.barplot(x=df['companyNames'].unique(),y=dfSales)\n",
    "plt.axhline(y=dividedLength)\n",
    "plt.xlabel('Team')\n",
    "plt.ylabel('Sales')\n",
    "plt.xticks(rotation=90)"
   ]
  },
  {
   "cell_type": "code",
   "execution_count": 8,
   "metadata": {},
   "outputs": [
    {
     "data": {
      "text/html": [
       "<div>\n",
       "<style scoped>\n",
       "    .dataframe tbody tr th:only-of-type {\n",
       "        vertical-align: middle;\n",
       "    }\n",
       "\n",
       "    .dataframe tbody tr th {\n",
       "        vertical-align: top;\n",
       "    }\n",
       "\n",
       "    .dataframe thead th {\n",
       "        text-align: right;\n",
       "    }\n",
       "</style>\n",
       "<table border=\"1\" class=\"dataframe\">\n",
       "  <thead>\n",
       "    <tr style=\"text-align: right;\">\n",
       "      <th></th>\n",
       "      <th>OrderNumber</th>\n",
       "      <th>Sales Channel</th>\n",
       "      <th>WarehouseCode</th>\n",
       "      <th>ProcuredDate</th>\n",
       "      <th>OrderDate</th>\n",
       "      <th>ShipDate</th>\n",
       "      <th>DeliveryDate</th>\n",
       "      <th>CurrencyCode</th>\n",
       "      <th>_SalesTeamID</th>\n",
       "      <th>_CustomerID</th>\n",
       "      <th>_StoreID</th>\n",
       "      <th>_ProductID</th>\n",
       "      <th>Order Quantity</th>\n",
       "      <th>Discount Applied</th>\n",
       "      <th>Unit Price</th>\n",
       "      <th>Unit Cost</th>\n",
       "      <th>companyNames</th>\n",
       "      <th>companyRegion</th>\n",
       "    </tr>\n",
       "  </thead>\n",
       "  <tbody>\n",
       "    <tr>\n",
       "      <th>0</th>\n",
       "      <td>SO - 000101</td>\n",
       "      <td>In-Store</td>\n",
       "      <td>WARE-UHY1004</td>\n",
       "      <td>2017-12-31</td>\n",
       "      <td>2018-05-31</td>\n",
       "      <td>2018-06-14</td>\n",
       "      <td>2018-06-19</td>\n",
       "      <td>USD</td>\n",
       "      <td>6</td>\n",
       "      <td>15</td>\n",
       "      <td>259</td>\n",
       "      <td>12</td>\n",
       "      <td>5</td>\n",
       "      <td>0.075</td>\n",
       "      <td>1963.1</td>\n",
       "      <td>1001.181</td>\n",
       "      <td>Joshua Bennett</td>\n",
       "      <td>Northeast</td>\n",
       "    </tr>\n",
       "    <tr>\n",
       "      <th>1</th>\n",
       "      <td>SO - 000102</td>\n",
       "      <td>Online</td>\n",
       "      <td>WARE-NMK1003</td>\n",
       "      <td>2017-12-31</td>\n",
       "      <td>2018-05-31</td>\n",
       "      <td>2018-06-22</td>\n",
       "      <td>2018-07-02</td>\n",
       "      <td>USD</td>\n",
       "      <td>14</td>\n",
       "      <td>20</td>\n",
       "      <td>196</td>\n",
       "      <td>27</td>\n",
       "      <td>3</td>\n",
       "      <td>0.075</td>\n",
       "      <td>3939.6</td>\n",
       "      <td>3348.660</td>\n",
       "      <td>Paul Holmes</td>\n",
       "      <td>Midwest</td>\n",
       "    </tr>\n",
       "    <tr>\n",
       "      <th>2</th>\n",
       "      <td>SO - 000103</td>\n",
       "      <td>Distributor</td>\n",
       "      <td>WARE-UHY1004</td>\n",
       "      <td>2017-12-31</td>\n",
       "      <td>2018-05-31</td>\n",
       "      <td>2018-06-21</td>\n",
       "      <td>2018-07-01</td>\n",
       "      <td>USD</td>\n",
       "      <td>21</td>\n",
       "      <td>16</td>\n",
       "      <td>213</td>\n",
       "      <td>16</td>\n",
       "      <td>1</td>\n",
       "      <td>0.050</td>\n",
       "      <td>1775.5</td>\n",
       "      <td>781.220</td>\n",
       "      <td>Samuel Fowler</td>\n",
       "      <td>Midwest</td>\n",
       "    </tr>\n",
       "    <tr>\n",
       "      <th>3</th>\n",
       "      <td>SO - 000104</td>\n",
       "      <td>Wholesale</td>\n",
       "      <td>WARE-NMK1003</td>\n",
       "      <td>2017-12-31</td>\n",
       "      <td>2018-05-31</td>\n",
       "      <td>2018-06-02</td>\n",
       "      <td>2018-06-07</td>\n",
       "      <td>USD</td>\n",
       "      <td>28</td>\n",
       "      <td>48</td>\n",
       "      <td>107</td>\n",
       "      <td>23</td>\n",
       "      <td>8</td>\n",
       "      <td>0.075</td>\n",
       "      <td>2324.9</td>\n",
       "      <td>1464.687</td>\n",
       "      <td>Carlos Miller</td>\n",
       "      <td>West</td>\n",
       "    </tr>\n",
       "    <tr>\n",
       "      <th>4</th>\n",
       "      <td>SO - 000105</td>\n",
       "      <td>Distributor</td>\n",
       "      <td>WARE-NMK1003</td>\n",
       "      <td>2018-04-10</td>\n",
       "      <td>2018-05-31</td>\n",
       "      <td>2018-06-16</td>\n",
       "      <td>2018-06-26</td>\n",
       "      <td>USD</td>\n",
       "      <td>22</td>\n",
       "      <td>49</td>\n",
       "      <td>111</td>\n",
       "      <td>26</td>\n",
       "      <td>8</td>\n",
       "      <td>0.100</td>\n",
       "      <td>1822.4</td>\n",
       "      <td>1476.144</td>\n",
       "      <td>Joe Price</td>\n",
       "      <td>Northeast</td>\n",
       "    </tr>\n",
       "  </tbody>\n",
       "</table>\n",
       "</div>"
      ],
      "text/plain": [
       "   OrderNumber Sales Channel WarehouseCode ProcuredDate  OrderDate   ShipDate  \\\n",
       "0  SO - 000101      In-Store  WARE-UHY1004   2017-12-31 2018-05-31 2018-06-14   \n",
       "1  SO - 000102        Online  WARE-NMK1003   2017-12-31 2018-05-31 2018-06-22   \n",
       "2  SO - 000103   Distributor  WARE-UHY1004   2017-12-31 2018-05-31 2018-06-21   \n",
       "3  SO - 000104     Wholesale  WARE-NMK1003   2017-12-31 2018-05-31 2018-06-02   \n",
       "4  SO - 000105   Distributor  WARE-NMK1003   2018-04-10 2018-05-31 2018-06-16   \n",
       "\n",
       "  DeliveryDate CurrencyCode  _SalesTeamID  _CustomerID  _StoreID  _ProductID  \\\n",
       "0   2018-06-19          USD             6           15       259          12   \n",
       "1   2018-07-02          USD            14           20       196          27   \n",
       "2   2018-07-01          USD            21           16       213          16   \n",
       "3   2018-06-07          USD            28           48       107          23   \n",
       "4   2018-06-26          USD            22           49       111          26   \n",
       "\n",
       "   Order Quantity  Discount Applied  Unit Price  Unit Cost    companyNames  \\\n",
       "0               5             0.075      1963.1   1001.181  Joshua Bennett   \n",
       "1               3             0.075      3939.6   3348.660     Paul Holmes   \n",
       "2               1             0.050      1775.5    781.220   Samuel Fowler   \n",
       "3               8             0.075      2324.9   1464.687   Carlos Miller   \n",
       "4               8             0.100      1822.4   1476.144       Joe Price   \n",
       "\n",
       "  companyRegion  \n",
       "0     Northeast  \n",
       "1       Midwest  \n",
       "2       Midwest  \n",
       "3          West  \n",
       "4     Northeast  "
      ]
     },
     "execution_count": 8,
     "metadata": {},
     "output_type": "execute_result"
    }
   ],
   "source": [
    "df.head()"
   ]
  },
  {
   "cell_type": "code",
   "execution_count": 13,
   "metadata": {},
   "outputs": [
    {
     "data": {
      "text/html": [
       "<div>\n",
       "<style scoped>\n",
       "    .dataframe tbody tr th:only-of-type {\n",
       "        vertical-align: middle;\n",
       "    }\n",
       "\n",
       "    .dataframe tbody tr th {\n",
       "        vertical-align: top;\n",
       "    }\n",
       "\n",
       "    .dataframe thead th {\n",
       "        text-align: right;\n",
       "    }\n",
       "</style>\n",
       "<table border=\"1\" class=\"dataframe\">\n",
       "  <thead>\n",
       "    <tr style=\"text-align: right;\">\n",
       "      <th></th>\n",
       "      <th>OrderNumber</th>\n",
       "      <th>Sales Channel</th>\n",
       "      <th>WarehouseCode</th>\n",
       "      <th>ProcuredDate</th>\n",
       "      <th>OrderDate</th>\n",
       "      <th>ShipDate</th>\n",
       "      <th>DeliveryDate</th>\n",
       "      <th>CurrencyCode</th>\n",
       "      <th>_SalesTeamID</th>\n",
       "      <th>_CustomerID</th>\n",
       "      <th>_StoreID</th>\n",
       "      <th>_ProductID</th>\n",
       "      <th>Order Quantity</th>\n",
       "      <th>Discount Applied</th>\n",
       "      <th>Unit Price</th>\n",
       "      <th>Unit Cost</th>\n",
       "      <th>companyNames</th>\n",
       "      <th>companyRegion</th>\n",
       "    </tr>\n",
       "  </thead>\n",
       "  <tbody>\n",
       "    <tr>\n",
       "      <th>7979</th>\n",
       "      <td>SO - 0008080</td>\n",
       "      <td>In-Store</td>\n",
       "      <td>WARE-NBV1002</td>\n",
       "      <td>2020-09-26</td>\n",
       "      <td>2020-12-29</td>\n",
       "      <td>2021-01-20</td>\n",
       "      <td>2021-01-27</td>\n",
       "      <td>USD</td>\n",
       "      <td>2</td>\n",
       "      <td>7</td>\n",
       "      <td>80</td>\n",
       "      <td>32</td>\n",
       "      <td>7</td>\n",
       "      <td>0.300</td>\n",
       "      <td>964.8</td>\n",
       "      <td>492.048</td>\n",
       "      <td>Keith Griffin</td>\n",
       "      <td>Northeast</td>\n",
       "    </tr>\n",
       "    <tr>\n",
       "      <th>7981</th>\n",
       "      <td>SO - 0008082</td>\n",
       "      <td>Distributor</td>\n",
       "      <td>WARE-PUJ1005</td>\n",
       "      <td>2020-09-26</td>\n",
       "      <td>2020-12-29</td>\n",
       "      <td>2021-01-07</td>\n",
       "      <td>2021-01-11</td>\n",
       "      <td>USD</td>\n",
       "      <td>22</td>\n",
       "      <td>12</td>\n",
       "      <td>279</td>\n",
       "      <td>17</td>\n",
       "      <td>1</td>\n",
       "      <td>0.100</td>\n",
       "      <td>1835.8</td>\n",
       "      <td>1303.418</td>\n",
       "      <td>Joe Price</td>\n",
       "      <td>Northeast</td>\n",
       "    </tr>\n",
       "    <tr>\n",
       "      <th>7982</th>\n",
       "      <td>SO - 0008083</td>\n",
       "      <td>In-Store</td>\n",
       "      <td>WARE-NMK1003</td>\n",
       "      <td>2020-09-26</td>\n",
       "      <td>2020-12-29</td>\n",
       "      <td>2021-01-21</td>\n",
       "      <td>2021-01-26</td>\n",
       "      <td>USD</td>\n",
       "      <td>4</td>\n",
       "      <td>42</td>\n",
       "      <td>132</td>\n",
       "      <td>21</td>\n",
       "      <td>3</td>\n",
       "      <td>0.100</td>\n",
       "      <td>5051.8</td>\n",
       "      <td>4243.512</td>\n",
       "      <td>Chris Armstrong</td>\n",
       "      <td>Northeast</td>\n",
       "    </tr>\n",
       "    <tr>\n",
       "      <th>7983</th>\n",
       "      <td>SO - 0008084</td>\n",
       "      <td>Distributor</td>\n",
       "      <td>WARE-NMK1003</td>\n",
       "      <td>2020-09-26</td>\n",
       "      <td>2020-12-29</td>\n",
       "      <td>2021-01-20</td>\n",
       "      <td>2021-01-30</td>\n",
       "      <td>USD</td>\n",
       "      <td>22</td>\n",
       "      <td>44</td>\n",
       "      <td>121</td>\n",
       "      <td>22</td>\n",
       "      <td>4</td>\n",
       "      <td>0.150</td>\n",
       "      <td>3959.7</td>\n",
       "      <td>2930.178</td>\n",
       "      <td>Joe Price</td>\n",
       "      <td>Northeast</td>\n",
       "    </tr>\n",
       "    <tr>\n",
       "      <th>7990</th>\n",
       "      <td>SO - 0008091</td>\n",
       "      <td>In-Store</td>\n",
       "      <td>WARE-UHY1004</td>\n",
       "      <td>2020-09-26</td>\n",
       "      <td>2020-12-30</td>\n",
       "      <td>2021-01-13</td>\n",
       "      <td>2021-01-19</td>\n",
       "      <td>USD</td>\n",
       "      <td>6</td>\n",
       "      <td>41</td>\n",
       "      <td>237</td>\n",
       "      <td>43</td>\n",
       "      <td>5</td>\n",
       "      <td>0.075</td>\n",
       "      <td>2211.0</td>\n",
       "      <td>1370.820</td>\n",
       "      <td>Joshua Bennett</td>\n",
       "      <td>Northeast</td>\n",
       "    </tr>\n",
       "  </tbody>\n",
       "</table>\n",
       "</div>"
      ],
      "text/plain": [
       "       OrderNumber Sales Channel WarehouseCode ProcuredDate  OrderDate  \\\n",
       "7979  SO - 0008080      In-Store  WARE-NBV1002   2020-09-26 2020-12-29   \n",
       "7981  SO - 0008082   Distributor  WARE-PUJ1005   2020-09-26 2020-12-29   \n",
       "7982  SO - 0008083      In-Store  WARE-NMK1003   2020-09-26 2020-12-29   \n",
       "7983  SO - 0008084   Distributor  WARE-NMK1003   2020-09-26 2020-12-29   \n",
       "7990  SO - 0008091      In-Store  WARE-UHY1004   2020-09-26 2020-12-30   \n",
       "\n",
       "       ShipDate DeliveryDate CurrencyCode  _SalesTeamID  _CustomerID  \\\n",
       "7979 2021-01-20   2021-01-27          USD             2            7   \n",
       "7981 2021-01-07   2021-01-11          USD            22           12   \n",
       "7982 2021-01-21   2021-01-26          USD             4           42   \n",
       "7983 2021-01-20   2021-01-30          USD            22           44   \n",
       "7990 2021-01-13   2021-01-19          USD             6           41   \n",
       "\n",
       "      _StoreID  _ProductID  Order Quantity  Discount Applied  Unit Price  \\\n",
       "7979        80          32               7             0.300       964.8   \n",
       "7981       279          17               1             0.100      1835.8   \n",
       "7982       132          21               3             0.100      5051.8   \n",
       "7983       121          22               4             0.150      3959.7   \n",
       "7990       237          43               5             0.075      2211.0   \n",
       "\n",
       "      Unit Cost     companyNames companyRegion  \n",
       "7979    492.048    Keith Griffin     Northeast  \n",
       "7981   1303.418        Joe Price     Northeast  \n",
       "7982   4243.512  Chris Armstrong     Northeast  \n",
       "7983   2930.178        Joe Price     Northeast  \n",
       "7990   1370.820   Joshua Bennett     Northeast  "
      ]
     },
     "execution_count": 13,
     "metadata": {},
     "output_type": "execute_result"
    }
   ],
   "source": [
    "dfNorthEast = df.loc[df['companyRegion'] == 'Northeast']\n",
    "dfSalesNortheast = dfNorthEast.groupby(\"_SalesTeamID\")._SalesTeamID.count()\n",
    "dfNorthEast.tail()\n"
   ]
  },
  {
   "cell_type": "code",
   "execution_count": 15,
   "metadata": {},
   "outputs": [
    {
     "data": {
      "text/plain": [
       "(array([0, 1, 2, 3, 4, 5, 6]),\n",
       " [Text(0, 0, 'Joshua Bennett'),\n",
       "  Text(1, 0, 'Joe Price'),\n",
       "  Text(2, 0, 'Chris Armstrong'),\n",
       "  Text(3, 0, 'Keith Griffin'),\n",
       "  Text(4, 0, 'Frank Brown'),\n",
       "  Text(5, 0, 'Shawn Torres'),\n",
       "  Text(6, 0, 'Adam Hernandez')])"
      ]
     },
     "execution_count": 15,
     "metadata": {},
     "output_type": "execute_result"
    },
    {
     "data": {
      "image/png": "[encoded data removed]",
      "text/plain": [
       "<Figure size 720x432 with 1 Axes>"
      ]
     },
     "metadata": {
      "needs_background": "light"
     },
     "output_type": "display_data"
    }
   ],
   "source": [
    "plt.figure(figsize=(10,6))\n",
    "\n",
    "sb.barplot(x=dfNorthEast['companyNames'].unique(),y=dfSalesNortheast)\n",
    "\n",
    "plt.xlabel('Team Northeast')\n",
    "plt.ylabel('Sales')\n",
    "plt.xticks(rotation=90)"
   ]
  },
  {
   "cell_type": "code",
   "execution_count": 18,
   "metadata": {},
   "outputs": [
    {
     "data": {
      "text/plain": [
       "(array([0, 1, 2, 3, 4, 5, 6, 7]),\n",
       " [Text(0, 0, 'Paul Holmes'),\n",
       "  Text(1, 0, 'Samuel Fowler'),\n",
       "  Text(2, 0, 'Carl Nguyen'),\n",
       "  Text(3, 0, 'Douglas Tucker'),\n",
       "  Text(4, 0, 'Joshua Ryan'),\n",
       "  Text(5, 0, 'Shawn Cook'),\n",
       "  Text(6, 0, 'Roy Rice'),\n",
       "  Text(7, 0, 'Roger Alexander')])"
      ]
     },
     "execution_count": 18,
     "metadata": {},
     "output_type": "execute_result"
    },
    {
     "data": {
      "image/png": "[encoded data removed]",
      "text/plain": [
       "<Figure size 720x432 with 1 Axes>"
      ]
     },
     "metadata": {
      "needs_background": "light"
     },
     "output_type": "display_data"
    }
   ],
   "source": [
    "dfMidwest = df.loc[df['companyRegion'] == 'Midwest']\n",
    "dfSalesMidwest = dfMidwest.groupby(\"_SalesTeamID\")._SalesTeamID.count()\n",
    "\n",
    "plt.figure(figsize=(10,6))\n",
    "\n",
    "sb.barplot(x=dfMidwest['companyNames'].unique(),y=dfSalesMidwest)\n",
    "\n",
    "plt.xlabel('Team Midwest')\n",
    "plt.ylabel('Sales')\n",
    "plt.xticks(rotation=90)"
   ]
  },
  {
   "cell_type": "code",
   "execution_count": 20,
   "metadata": {},
   "outputs": [
    {
     "data": {
      "text/plain": [
       "(array([0, 1, 2, 3, 4, 5]),\n",
       " [Text(0, 0, 'Stephen Payne'),\n",
       "  Text(1, 0, 'Patrick Graham'),\n",
       "  Text(2, 0, 'Shawn Wallace'),\n",
       "  Text(3, 0, 'Nicholas Cunningham'),\n",
       "  Text(4, 0, 'Donald Reynolds'),\n",
       "  Text(5, 0, 'Joshua Little')])"
      ]
     },
     "execution_count": 20,
     "metadata": {},
     "output_type": "execute_result"
    },
    {
     "data": {
      "image/png": "[encoded data removed]",
      "text/plain": [
       "<Figure size 720x432 with 1 Axes>"
      ]
     },
     "metadata": {
      "needs_background": "light"
     },
     "output_type": "display_data"
    }
   ],
   "source": [
    "dfSouth = df.loc[df['companyRegion'] == 'South']\n",
    "dfSalesSouth = dfSouth.groupby(\"_SalesTeamID\")._SalesTeamID.count()\n",
    "\n",
    "plt.figure(figsize=(10,6))\n",
    "\n",
    "sb.barplot(x=dfSouth['companyNames'].unique(),y=dfSalesSouth)\n",
    "\n",
    "plt.xlabel('Team South')\n",
    "plt.ylabel('Sales')\n",
    "plt.xticks(rotation=90)"
   ]
  },
  {
   "cell_type": "code",
   "execution_count": 21,
   "metadata": {},
   "outputs": [
    {
     "data": {
      "text/plain": [
       "(array([0, 1, 2, 3, 4, 5, 6]),\n",
       " [Text(0, 0, 'Carlos Miller'),\n",
       "  Text(1, 0, 'Jonathan Hawkins'),\n",
       "  Text(2, 0, 'George Lewis'),\n",
       "  Text(3, 0, 'Anthony Torres'),\n",
       "  Text(4, 0, 'Todd Roberts'),\n",
       "  Text(5, 0, 'Anthony Berry'),\n",
       "  Text(6, 0, 'Jerry Green')])"
      ]
     },
     "execution_count": 21,
     "metadata": {},
     "output_type": "execute_result"
    },
    {
     "data": {
      "image/png": "[encoded data removed]",
      "text/plain": [
       "<Figure size 720x432 with 1 Axes>"
      ]
     },
     "metadata": {
      "needs_background": "light"
     },
     "output_type": "display_data"
    }
   ],
   "source": [
    "dfWest = df.loc[df['companyRegion'] == 'West']\n",
    "dfSalesWest = dfWest.groupby(\"_SalesTeamID\")._SalesTeamID.count()\n",
    "\n",
    "plt.figure(figsize=(10,6))\n",
    "\n",
    "sb.barplot(x=dfWest['companyNames'].unique(),y=dfSalesWest)\n",
    "\n",
    "plt.xlabel('Team Midwest')\n",
    "plt.ylabel('Sales')\n",
    "plt.xticks(rotation=90)"
   ]
  }
 ],
 "metadata": {
  "kernelspec": {
   "display_name": "Python 3.10.2 64-bit",
   "language": "python",
   "name": "python3"
  },
  "language_info": {
   "codemirror_mode": {
    "name": "ipython",
    "version": 3
   },
   "file_extension": ".py",
   "mimetype": "text/x-python",
   "name": "python",
   "nbconvert_exporter": "python",
   "pygments_lexer": "ipython3",
   "version": "3.10.2"
  },
  "orig_nbformat": 4,
  "vscode": {
   "interpreter": {
    "hash": "369f2c481f4da34e4445cda3fffd2e751bd1c4d706f27375911949ba6bb62e1c"
   }
  }
 },
 "nbformat": 4,
 "nbformat_minor": 2
}
